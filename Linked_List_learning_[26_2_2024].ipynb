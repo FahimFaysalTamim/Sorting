{
  "nbformat": 4,
  "nbformat_minor": 0,
  "metadata": {
    "colab": {
      "provenance": [],
      "authorship_tag": "ABX9TyMIGo+EuBz5WkHVW9zOTNHG",
      "include_colab_link": true
    },
    "kernelspec": {
      "name": "python3",
      "display_name": "Python 3"
    },
    "language_info": {
      "name": "python"
    }
  },
  "cells": [
    {
      "cell_type": "markdown",
      "metadata": {
        "id": "view-in-github",
        "colab_type": "text"
      },
      "source": [
        "<a href=\"https://colab.research.google.com/github/FahimFaysalTamim/Sorting/blob/main/Linked_List_learning_%5B26_2_2024%5D.ipynb\" target=\"_parent\"><img src=\"https://colab.research.google.com/assets/colab-badge.svg\" alt=\"Open In Colab\"/></a>"
      ]
    },
    {
      "cell_type": "code",
      "source": [
        "\n",
        "import numpy as np"
      ],
      "metadata": {
        "id": "HV4w0AchYEfY"
      },
      "execution_count": 87,
      "outputs": []
    },
    {
      "cell_type": "code",
      "execution_count": null,
      "metadata": {
        "id": "TLVHoEn1Xg0-"
      },
      "outputs": [],
      "source": []
    },
    {
      "cell_type": "code",
      "source": [],
      "metadata": {
        "id": "HcJ3nBAkXvpw"
      },
      "execution_count": null,
      "outputs": []
    },
    {
      "cell_type": "code",
      "source": [
        "#Run this cell\n",
        "class Node:\n",
        "  def __init__(self,elem,next = None):\n",
        "    self.elem,self.next = elem,next\n",
        "\n",
        "def createList(arr):\n",
        "  head = Node(arr[0])\n",
        "  tail = head\n",
        "  for i in range(1,len(arr)):\n",
        "    newNode = Node(arr[i])\n",
        "    tail.next = newNode\n",
        "    tail = newNode\n",
        "  return head\n",
        "\n",
        "def printLinkedList(head):\n",
        "  temp = head\n",
        "  while temp != None:\n",
        "    if temp.next != None:\n",
        "      print(temp.elem, end = '-->')\n",
        "    else:\n",
        "      print(temp.elem)\n",
        "    temp = temp.next\n",
        "  print()\n",
        "\n",
        "def iteration (head):\n",
        "    temp=head\n",
        "    while temp != None:\n",
        "        print(temp.elem)\n",
        "        temp=temp.next\n",
        "\n",
        "def count(head):\n",
        "    count=0\n",
        "    temp=head\n",
        "\n",
        "    while True:\n",
        "        if temp == None:\n",
        "            break\n",
        "        count+=1\n",
        "    # print(count)\n",
        "        temp=temp.next\n",
        "    print(count)\n",
        "\n",
        "def elemAt(head,idx):\n",
        "    count=0\n",
        "    temp=head\n",
        "    obj=None\n",
        "    while temp != None :\n",
        "        if count == idx:\n",
        "            obj=temp.elem\n",
        "            print(f'[[[[[{obj}]]]]]')\n",
        "        count+=1\n",
        "        temp=temp.next\n",
        "\n",
        "def NodeAt(head,idx):\n",
        "    count=0\n",
        "    temp=head\n",
        "    obj=None\n",
        "\n",
        "    while temp != None :\n",
        "        if count == idx:\n",
        "            obj=temp\n",
        "            print(obj)\n",
        "        count+=1\n",
        "        temp=temp.next\n",
        "\n",
        "def Search_elem(head,elem):\n",
        "    temp=head\n",
        "    count=0\n",
        "    Flag = False\n",
        "    while temp != None:\n",
        "        if temp.elem == elem:\n",
        "            Flag = True\n",
        "\n",
        "        temp=temp.next\n",
        "\n",
        "    if Flag==True:\n",
        "        print(\"True\")\n",
        "    else:\n",
        "        print(\"False\")\n",
        "\n",
        "\n",
        "\n",
        "\n",
        "\n",
        "\n",
        "\n",
        "\n",
        "\n",
        "\n",
        "\n"
      ],
      "metadata": {
        "id": "vpDtYVIKbPY4"
      },
      "execution_count": 88,
      "outputs": []
    },
    {
      "cell_type": "code",
      "source": [
        "building_1 = createList(np.array(['Red', 'Green', 'Yellow', 'Red', 'Blue', 'Green']))\n",
        "building_2 = createList(np.array(['Red', 'Green', 'Yellow', 'Red', 'Blue', 'Green']))\n",
        "print('Building 1: ', end = ' ')\n",
        "printLinkedList(building_1)\n",
        "iteration(building_1)\n",
        "count(building_1)\n",
        "elemAt(building_1,3)\n",
        "NodeAt(building_1,2)\n",
        "Search_elem(building_1,'Yellow')"
      ],
      "metadata": {
        "colab": {
          "base_uri": "https://localhost:8080/"
        },
        "id": "ZlaKzQvYbXuJ",
        "outputId": "b747f61d-fc3b-4d91-a256-753b559b963b"
      },
      "execution_count": 89,
      "outputs": [
        {
          "output_type": "stream",
          "name": "stdout",
          "text": [
            "Building 1:  Red-->Green-->Yellow-->Red-->Blue-->Green\n",
            "\n",
            "Red\n",
            "Green\n",
            "Yellow\n",
            "Red\n",
            "Blue\n",
            "Green\n",
            "6\n",
            "[[[[[Red]]]]]\n",
            "<__main__.Node object at 0x7facbbb29b10>\n",
            "True\n"
          ]
        }
      ]
    },
    {
      "cell_type": "code",
      "source": [
        "a=input(\"Please enter somethimg\")\n",
        "print(a)"
      ],
      "metadata": {
        "colab": {
          "base_uri": "https://localhost:8080/"
        },
        "id": "o-0AjxIMd1qO",
        "outputId": "6f8d6eeb-11bf-48f8-ed52-4a96c43548c9"
      },
      "execution_count": 45,
      "outputs": [
        {
          "output_type": "stream",
          "name": "stdout",
          "text": [
            "Please enter somethimgljjj\n",
            "ljjj\n"
          ]
        }
      ]
    }
  ]
}